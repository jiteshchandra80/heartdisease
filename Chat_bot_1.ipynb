{
  "nbformat": 4,
  "nbformat_minor": 0,
  "metadata": {
    "colab": {
      "name": "Chat_bot_1.ipynb",
      "provenance": [],
      "authorship_tag": "ABX9TyOF4l+AE3Nkw0KqU8kgDcJE",
      "include_colab_link": true
    },
    "kernelspec": {
      "name": "python3",
      "display_name": "Python 3"
    }
  },
  "cells": [
    {
      "cell_type": "markdown",
      "metadata": {
        "id": "view-in-github",
        "colab_type": "text"
      },
      "source": [
        "<a href=\"https://colab.research.google.com/github/jiteshchandra80/heartdisease/blob/master/Chat_bot_1.ipynb\" target=\"_parent\"><img src=\"https://colab.research.google.com/assets/colab-badge.svg\" alt=\"Open In Colab\"/></a>"
      ]
    },
    {
      "cell_type": "code",
      "metadata": {
        "id": "4KA7hAEd3Qzk",
        "colab_type": "code",
        "colab": {}
      },
      "source": [
        "#Creating a chatbot with the help of nltk Library\n"
      ],
      "execution_count": null,
      "outputs": []
    },
    {
      "cell_type": "code",
      "metadata": {
        "id": "TtP0-CGS3bkY",
        "colab_type": "code",
        "colab": {}
      },
      "source": [
        "from nltk.chat.util import Chat,reflections"
      ],
      "execution_count": null,
      "outputs": []
    },
    {
      "cell_type": "code",
      "metadata": {
        "id": "mZ2AsTzr3ltx",
        "colab_type": "code",
        "colab": {}
      },
      "source": [
        "pairs=[[\"my name is (.*)\",[\"Hi %1, I hope you are doing well\"]],\n",
        "    \n",
        "       [\"(hi|hello|hola|hey|hii)\",[\"Hi there how may I help you, please provide me your name\", \"Hi there, nice to have chat with you\",\"Hiiiiiiii\",\"Hello ji ki haal chal\"]],\n",
        "       [\"(.*) in (.*) is always a fun\",[\"%1 in %2 is always a fun no question about it\"]],\n",
        "       [\"(.*)(location|city)\",[\"Delhi,India\"]],\n",
        "       [\"(.*) created you?\",[\"Jagdish from india created me with the help of nltk library\"]],\n",
        "       [\"(How is the weather in (.*))\",[\"weather in %1 is always awesome\"]],\n",
        "       [\"(.*)help(.*)\",[\"I am always here to help you in any condition\"]],\n",
        "       [\"(.*) your name?\", [\"My name is CHITTI\"]]\n",
        "       ]"
      ],
      "execution_count": null,
      "outputs": []
    },
    {
      "cell_type": "code",
      "metadata": {
        "id": "bk5puBQn5EY-",
        "colab_type": "code",
        "colab": {
          "base_uri": "https://localhost:8080/",
          "height": 338
        },
        "outputId": "8a6524c4-564e-4cc8-fbf1-4c36b643e2a4"
      },
      "source": [
        "chat=Chat(pairs,reflections)\n",
        "chat.converse()"
      ],
      "execution_count": null,
      "outputs": [
        {
          "output_type": "stream",
          "text": [
            ">hi\n",
            "Hello ji ki haal chal\n",
            ">hi\n",
            "Hi there how may I help you, please provide me your name\n",
            ">hi\n",
            "Hi there, nice to have chat with you\n",
            ">hi\n",
            "Hi there, nice to have chat with you\n",
            ">hi\n",
            "Hi there, nice to have chat with you\n",
            ">hello\n",
            "Hiiiiiiii\n",
            ">hi\n",
            "Hello ji ki haal chal\n",
            ">how is the weather in delhi? \n",
            "weather in how is the weather in delhi?  is always awesome\n",
            ">what is your name?\n",
            "My name is CHITTI\n"
          ],
          "name": "stdout"
        }
      ]
    },
    {
      "cell_type": "code",
      "metadata": {
        "id": "NIYb7qeDGnku",
        "colab_type": "code",
        "colab": {}
      },
      "source": [
        "my_new_ref={\n",
        "    \"i\":\"you\",\n",
        "    \"go\":\"gone\",\n",
        "    \"me\":\"mine\"\n",
        "}"
      ],
      "execution_count": null,
      "outputs": []
    },
    {
      "cell_type": "code",
      "metadata": {
        "id": "5evwM8gmHCgy",
        "colab_type": "code",
        "colab": {
          "base_uri": "https://localhost:8080/",
          "height": 34
        },
        "outputId": "bd10238a-0c99-44b7-fed2-435d35ac65ac"
      },
      "source": [
        "chat1=Chat(pairs,my_new_ref)\n",
        "chat1._substitute(\"i go me\")\n",
        "#chat1.converse()"
      ],
      "execution_count": null,
      "outputs": [
        {
          "output_type": "execute_result",
          "data": {
            "text/plain": [
              "'you gone mine'"
            ]
          },
          "metadata": {
            "tags": []
          },
          "execution_count": 36
        }
      ]
    },
    {
      "cell_type": "code",
      "metadata": {
        "id": "UrWlNtZ2G0kW",
        "colab_type": "code",
        "colab": {}
      },
      "source": [
        ""
      ],
      "execution_count": null,
      "outputs": []
    }
  ]
}