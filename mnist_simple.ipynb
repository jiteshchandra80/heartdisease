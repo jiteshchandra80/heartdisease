{
  "nbformat": 4,
  "nbformat_minor": 0,
  "metadata": {
    "colab": {
      "name": "mnist_simple.ipynb",
      "provenance": [],
      "authorship_tag": "ABX9TyMVYNJCbqq7YUeEXtLHC6vP",
      "include_colab_link": true
    },
    "kernelspec": {
      "name": "python3",
      "display_name": "Python 3"
    }
  },
  "cells": [
    {
      "cell_type": "markdown",
      "metadata": {
        "id": "view-in-github",
        "colab_type": "text"
      },
      "source": [
        "<a href=\"https://colab.research.google.com/github/jiteshchandra80/heartdisease/blob/new_branch/mnist_simple.ipynb\" target=\"_parent\"><img src=\"https://colab.research.google.com/assets/colab-badge.svg\" alt=\"Open In Colab\"/></a>"
      ]
    },
    {
      "cell_type": "code",
      "metadata": {
        "id": "yKHuAFaRWWHm",
        "colab_type": "code",
        "colab": {
          "base_uri": "https://localhost:8080/",
          "height": 134
        },
        "outputId": "a282ca57-ac5e-4a8d-a7fe-b97ecc9ed4cc"
      },
      "source": [
        "import tensorflow as tf\n",
        "from tensorflow.keras.models import Sequential\n",
        "from tensorflow.keras.layers import Flatten, Dense\n",
        "pd=tf.keras.datasets.mnist\n",
        "(train_x,train_y),(test_x,test_y)=pd.load_data()\n",
        "\n",
        "train_x=tf.keras.utils.normalize(train_x,axis=1)\n",
        "test_x=tf.keras.utils.normalize(test_x,axis=1)\n",
        "model=tf.keras.models.Sequential()\n",
        "model.add(Flatten())\n",
        "model.add(Dense(128,activation=\"relu\"))\n",
        "model.add(Dense(128,activation=\"relu\"))\n",
        "model.add(Dense(10,activation=\"softmax\"))\n",
        "\n",
        "model.compile(optimizer=\"adam\",loss=\"sparse_categorical_crossentropy\",metrics=[\"accuracy\"])\n",
        "model.fit(train_x,train_y,epochs=3)\n"
      ],
      "execution_count": null,
      "outputs": [
        {
          "output_type": "stream",
          "text": [
            "Epoch 1/3\n",
            "1875/1875 [==============================] - 4s 2ms/step - loss: 0.2616 - accuracy: 0.9231\n",
            "Epoch 2/3\n",
            "1875/1875 [==============================] - 4s 2ms/step - loss: 0.1051 - accuracy: 0.9676\n",
            "Epoch 3/3\n",
            "1875/1875 [==============================] - 4s 2ms/step - loss: 0.0713 - accuracy: 0.9772\n"
          ],
          "name": "stdout"
        },
        {
          "output_type": "execute_result",
          "data": {
            "text/plain": [
              "<tensorflow.python.keras.callbacks.History at 0x7f80246a8da0>"
            ]
          },
          "metadata": {
            "tags": []
          },
          "execution_count": 28
        }
      ]
    },
    {
      "cell_type": "code",
      "metadata": {
        "id": "QThw1nVqW51D",
        "colab_type": "code",
        "colab": {
          "base_uri": "https://localhost:8080/",
          "height": 282
        },
        "outputId": "9eee88c8-0e56-478f-95a4-682445e54e0b"
      },
      "source": [
        "import matplotlib.pyplot as plt\n",
        "\n",
        "plt.imshow(train_x[0],cmap=plt.cm.binary)"
      ],
      "execution_count": null,
      "outputs": [
        {
          "output_type": "execute_result",
          "data": {
            "text/plain": [
              "<matplotlib.image.AxesImage at 0x7f8023d9cc50>"
            ]
          },
          "metadata": {
            "tags": []
          },
          "execution_count": 29
        },
        {
          "output_type": "display_data",
          "data": {
            "image/png": "[encoded data removed]",
            "text/plain": [
              "<Figure size 432x288 with 1 Axes>"
            ]
          },
          "metadata": {
            "tags": []
          }
        }
      ]
    },
    {
      "cell_type": "code",
      "metadata": {
        "id": "KSzha0JOaWt3",
        "colab_type": "code",
        "colab": {
          "base_uri": "https://localhost:8080/",
          "height": 50
        },
        "outputId": "e64b8bd3-30d3-4d35-dd5d-a11c7100ee2d"
      },
      "source": [
        "val_loss,val_acc=model.evaluate(test_x,test_y)\n",
        "print(val_acc,val_loss)\n"
      ],
      "execution_count": null,
      "outputs": [
        {
          "output_type": "stream",
          "text": [
            "313/313 [==============================] - 0s 1ms/step - loss: 0.0815 - accuracy: 0.9731\n",
            "0.9731000065803528 0.08151710778474808\n"
          ],
          "name": "stdout"
        }
      ]
    },
    {
      "cell_type": "code",
      "metadata": {
        "id": "VBkCrOCDbelI",
        "colab_type": "code",
        "colab": {
          "base_uri": "https://localhost:8080/",
          "height": 34
        },
        "outputId": "a43cf306-b043-47e1-b1c3-6b5a6b95bbe3"
      },
      "source": [
        "model.save(\"my_model.model\")\n",
        "new_model=tf.keras.models.load_model(\"my_model.model\")\n"
      ],
      "execution_count": null,
      "outputs": [
        {
          "output_type": "stream",
          "text": [
            "INFO:tensorflow:Assets written to: my_model.model/assets\n"
          ],
          "name": "stdout"
        }
      ]
    },
    {
      "cell_type": "code",
      "metadata": {
        "id": "TXr7uCC3ij1l",
        "colab_type": "code",
        "colab": {}
      },
      "source": [
        "predict=new_model.predict(test_x)"
      ],
      "execution_count": null,
      "outputs": []
    },
    {
      "cell_type": "code",
      "metadata": {
        "id": "xGRnweZCbgoX",
        "colab_type": "code",
        "colab": {
          "base_uri": "https://localhost:8080/",
          "height": 235
        },
        "outputId": "603992b9-cf04-4f8b-c438-4963a4bff993"
      },
      "source": [
        "print(predict)"
      ],
      "execution_count": null,
      "outputs": [
        {
          "output_type": "stream",
          "text": [
            "[[7.7588631e-08 1.7728018e-08 3.2996260e-05 ... 9.9994111e-01\n",
            "  4.2213603e-07 1.2959320e-07]\n",
            " [1.1970661e-07 5.7062940e-03 9.9297225e-01 ... 3.4126499e-10\n",
            "  9.9507709e-08 7.4703377e-10]\n",
            " [5.7107165e-08 9.9993598e-01 1.4732340e-05 ... 2.8864306e-05\n",
            "  4.8046381e-06 2.5469478e-07]\n",
            " ...\n",
            " [3.6886945e-09 4.1921939e-07 1.2095640e-08 ... 1.0287130e-05\n",
            "  1.9616655e-06 1.4140995e-04]\n",
            " [5.2566108e-08 4.0179993e-06 1.9490590e-08 ... 5.2524616e-08\n",
            "  1.0097059e-03 5.9599301e-08]\n",
            " [1.3047567e-06 6.0330066e-08 2.6599321e-06 ... 2.4657576e-11\n",
            "  1.7059352e-06 1.7600983e-07]]\n"
          ],
          "name": "stdout"
        }
      ]
    },
    {
      "cell_type": "code",
      "metadata": {
        "id": "myMd8RnMbZd3",
        "colab_type": "code",
        "colab": {
          "base_uri": "https://localhost:8080/",
          "height": 50
        },
        "outputId": "6692e657-7a7d-4957-c9a2-65d118540fb3"
      },
      "source": [
        "import numpy as np\n",
        "print(np.argmax(predict[8]))\n",
        "print(np.argmax(predict[5]))\n"
      ],
      "execution_count": null,
      "outputs": [
        {
          "output_type": "stream",
          "text": [
            "5\n",
            "1\n"
          ],
          "name": "stdout"
        }
      ]
    },
    {
      "cell_type": "code",
      "metadata": {
        "id": "NTcNqqEcbgrn",
        "colab_type": "code",
        "colab": {
          "base_uri": "https://localhost:8080/",
          "height": 282
        },
        "outputId": "fdd9d6b6-dbff-4e3a-d635-dec0d8c8c576"
      },
      "source": [
        "\n",
        "plt.imshow(test_x[5])"
      ],
      "execution_count": null,
      "outputs": [
        {
          "output_type": "execute_result",
          "data": {
            "text/plain": [
              "<matplotlib.image.AxesImage at 0x7f8022726ba8>"
            ]
          },
          "metadata": {
            "tags": []
          },
          "execution_count": 46
        },
        {
          "output_type": "display_data",
          "data": {
            "image/png": "[encoded data removed]",
            "text/plain": [
              "<Figure size 432x288 with 1 Axes>"
            ]
          },
          "metadata": {
            "tags": []
          }
        }
      ]
    },
    {
      "cell_type": "code",
      "metadata": {
        "id": "-O2g7V76j4DX",
        "colab_type": "code",
        "colab": {
          "base_uri": "https://localhost:8080/",
          "height": 282
        },
        "outputId": "a8dcc7a3-db42-4b46-a3da-f386298d1f24"
      },
      "source": [
        "plt.imshow(test_x[8])"
      ],
      "execution_count": null,
      "outputs": [
        {
          "output_type": "execute_result",
          "data": {
            "text/plain": [
              "<matplotlib.image.AxesImage at 0x7f80225fcef0>"
            ]
          },
          "metadata": {
            "tags": []
          },
          "execution_count": 51
        },
        {
          "output_type": "display_data",
          "data": {
            "image/png": "[encoded data removed]",
            "text/plain": [
              "<Figure size 432x288 with 1 Axes>"
            ]
          },
          "metadata": {
            "tags": []
          }
        }
      ]
    }
  ]
}